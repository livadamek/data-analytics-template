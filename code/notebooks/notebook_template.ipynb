{
 "cells": [
  {
   "cell_type": "markdown",
   "id": "94d8db61-ec5f-43e8-979b-a8c0b960813f",
   "metadata": {},
   "source": [
    "# Project Name"
   ]
  },
  {
   "cell_type": "markdown",
   "id": "baeaa253-4f5e-4f5c-a0c2-5ffe2b798ad4",
   "metadata": {},
   "source": [
    "**Author** Liv Adamek  \n",
    "**Last Modified:** 11-23-2024 (created 11-23-2024)  \n",
    "\n",
    "**Descriptiion** Short paragraph explaining the project  "
   ]
  },
  {
   "cell_type": "markdown",
   "id": "de491751-941f-4721-97f9-366077f7013c",
   "metadata": {},
   "source": [
    "<br>"
   ]
  },
  {
   "cell_type": "markdown",
   "id": "fc66e9cb-af0a-487d-bed6-006265b803b6",
   "metadata": {},
   "source": [
    "Import libraries:"
   ]
  },
  {
   "cell_type": "code",
   "execution_count": 49,
   "id": "456097e9-1d02-4df6-83b8-771b7a3279be",
   "metadata": {},
   "outputs": [],
   "source": [
    "import pandas as pd "
   ]
  },
  {
   "cell_type": "markdown",
   "id": "8725d549-092b-4c1c-8bf2-d091347f2cb9",
   "metadata": {},
   "source": [
    "<br>"
   ]
  },
  {
   "cell_type": "markdown",
   "id": "d697e86b-c0bc-4832-aa6a-f6f55423c88b",
   "metadata": {},
   "source": [
    "Load data:"
   ]
  },
  {
   "cell_type": "code",
   "execution_count": 52,
   "id": "f4878382-8a47-48fb-9d18-c839938d6a95",
   "metadata": {},
   "outputs": [],
   "source": [
    "#code to read csv file "
   ]
  }
 ],
 "metadata": {
  "kernelspec": {
   "display_name": "Python 3 (ipykernel)",
   "language": "python",
   "name": "python3"
  },
  "language_info": {
   "codemirror_mode": {
    "name": "ipython",
    "version": 3
   },
   "file_extension": ".py",
   "mimetype": "text/x-python",
   "name": "python",
   "nbconvert_exporter": "python",
   "pygments_lexer": "ipython3",
   "version": "3.12.4"
  }
 },
 "nbformat": 4,
 "nbformat_minor": 5
}
